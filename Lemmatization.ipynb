{
 "cells": [
  {
   "cell_type": "code",
   "execution_count": 27,
   "metadata": {
    "collapsed": false,
    "deletable": true,
    "editable": true
   },
   "outputs": [
    {
     "name": "stderr",
     "output_type": "stream",
     "text": [
      "[nltk_data] Downloading package wordnet to C:\\Users\\Deeksha\n",
      "[nltk_data]     Makholiya\\AppData\\Roaming\\nltk_data...\n",
      "[nltk_data]   Package wordnet is already up-to-date!\n"
     ]
    },
    {
     "data": {
      "text/plain": [
       "True"
      ]
     },
     "execution_count": 27,
     "metadata": {},
     "output_type": "execute_result"
    }
   ],
   "source": [
    "import nltk\n",
    "import string\n",
    "nltk.download('wordnet')"
   ]
  },
  {
   "cell_type": "code",
   "execution_count": 40,
   "metadata": {
    "collapsed": true,
    "deletable": true,
    "editable": true
   },
   "outputs": [],
   "source": [
    "from nltk.stem import WordNetLemmatizer \n",
    "from nltk.corpus import wordnet\n",
    "from nltk.corpus import stopwords"
   ]
  },
  {
   "cell_type": "code",
   "execution_count": 21,
   "metadata": {
    "collapsed": true,
    "deletable": true,
    "editable": true
   },
   "outputs": [],
   "source": [
    "sentence = \"The sea was rushing against the rock somewhere nearby; Harry listened to it while the others talked, discussing matters in which he could take no interest, making decisions, Dean carried the injured Griphook into the house, Fleur hurrying with them; now Bill was really knowing what he was saying. As he did so, he gazed down at the tiny body, and his scar prickled and burned, and in one part of his mind, viewed as if from the wrong end of a long telescope, he saw Voldemort punishing those they had left behind at the Malfoy Manor. His rage was dreadful and yet Harry's grief for Dobby seemed to diminish it, so that it became a distant storm that reached Harry from across a vast, silent ocean.\""
   ]
  },
  {
   "cell_type": "code",
   "execution_count": 22,
   "metadata": {
    "collapsed": true,
    "deletable": true,
    "editable": true
   },
   "outputs": [],
   "source": [
    "word_list = nltk.word_tokenize(sentence)"
   ]
  },
  {
   "cell_type": "code",
   "execution_count": 23,
   "metadata": {
    "collapsed": false,
    "deletable": true,
    "editable": true
   },
   "outputs": [
    {
     "name": "stdout",
     "output_type": "stream",
     "text": [
      "['The', 'sea', 'was', 'rushing', 'against', 'the', 'rock', 'somewhere', 'nearby', ';', 'Harry', 'listened', 'to', 'it', 'while', 'the', 'others', 'talked', ',', 'discussing', 'matters', 'in', 'which', 'he', 'could', 'take', 'no', 'interest', ',', 'making', 'decisions', ',', 'Dean', 'carried', 'the', 'injured', 'Griphook', 'into', 'the', 'house', ',', 'Fleur', 'hurrying', 'with', 'them', ';', 'now', 'Bill', 'was', 'really', 'knowing', 'what', 'he', 'was', 'saying', '.', 'As', 'he', 'did', 'so', ',', 'he', 'gazed', 'down', 'at', 'the', 'tiny', 'body', ',', 'and', 'his', 'scar', 'prickled', 'and', 'burned', ',', 'and', 'in', 'one', 'part', 'of', 'his', 'mind', ',', 'viewed', 'as', 'if', 'from', 'the', 'wrong', 'end', 'of', 'a', 'long', 'telescope', ',', 'he', 'saw', 'Voldemort', 'punishing', 'those', 'they', 'had', 'left', 'behind', 'at', 'the', 'Malfoy', 'Manor', '.', 'His', 'rage', 'was', 'dreadful', 'and', 'yet', 'Harry', \"'s\", 'grief', 'for', 'Dobby', 'seemed', 'to', 'diminish', 'it', ',', 'so', 'that', 'it', 'became', 'a', 'distant', 'storm', 'that', 'reached', 'Harry', 'from', 'across', 'a', 'vast', ',', 'silent', 'ocean', '.']\n"
     ]
    }
   ],
   "source": [
    "print(word_list)"
   ]
  },
  {
   "cell_type": "code",
   "execution_count": 28,
   "metadata": {
    "collapsed": false,
    "deletable": true,
    "editable": true
   },
   "outputs": [
    {
     "name": "stdout",
     "output_type": "stream",
     "text": [
      "!\"#$%&'()*+,-./:;<=>?@[\\]^_`{|}~\n"
     ]
    }
   ],
   "source": [
    "print(string.punctuation)"
   ]
  },
  {
   "cell_type": "code",
   "execution_count": 29,
   "metadata": {
    "collapsed": true,
    "deletable": true,
    "editable": true
   },
   "outputs": [],
   "source": [
    "table = str.maketrans('', '', string.punctuation) #Remove puntuation"
   ]
  },
  {
   "cell_type": "code",
   "execution_count": 41,
   "metadata": {
    "collapsed": false,
    "deletable": true,
    "editable": true
   },
   "outputs": [
    {
     "name": "stdout",
     "output_type": "stream",
     "text": [
      "['The', 'sea', 'was', 'rushing', 'against', 'the', 'rock', 'somewhere', 'nearby', '', 'Harry', 'listened', 'to', 'it', 'while', 'the', 'others', 'talked', '', 'discussing', 'matters', 'in', 'which', 'he', 'could', 'take', 'no', 'interest', '', 'making', 'decisions', '', 'Dean', 'carried', 'the', 'injured', 'Griphook', 'into', 'the', 'house', '', 'Fleur', 'hurrying', 'with', 'them', '', 'now', 'Bill', 'was', 'really', 'knowing', 'what', 'he', 'was', 'saying', '', 'As', 'he', 'did', 'so', '', 'he', 'gazed', 'down', 'at', 'the', 'tiny', 'body', '', 'and', 'his', 'scar', 'prickled', 'and', 'burned', '', 'and', 'in', 'one', 'part', 'of', 'his', 'mind', '', 'viewed', 'as', 'if', 'from', 'the', 'wrong', 'end', 'of', 'a', 'long', 'telescope', '', 'he', 'saw', 'Voldemort', 'punishing', 'those', 'they', 'had', 'left', 'behind', 'at', 'the', 'Malfoy', 'Manor', '', 'His', 'rage', 'was', 'dreadful', 'and', 'yet', 'Harry', 's', 'grief', 'for', 'Dobby', 'seemed', 'to', 'diminish', 'it', '', 'so', 'that', 'it', 'became', 'a', 'distant', 'storm', 'that', 'reached', 'Harry', 'from', 'across', 'a', 'vast', '', 'silent', 'ocean', '']\n"
     ]
    }
   ],
   "source": [
    "stripped = [w.translate(table) for w in word_list]\n",
    "print(stripped)"
   ]
  },
  {
   "cell_type": "code",
   "execution_count": 42,
   "metadata": {
    "collapsed": true,
    "deletable": true,
    "editable": true
   },
   "outputs": [],
   "source": [
    "word_list = [w.lower() for w in word_list]"
   ]
  },
  {
   "cell_type": "code",
   "execution_count": 43,
   "metadata": {
    "collapsed": false,
    "deletable": true,
    "editable": true
   },
   "outputs": [
    {
     "name": "stdout",
     "output_type": "stream",
     "text": [
      "['the', 'sea', 'was', 'rushing', 'against', 'the', 'rock', 'somewhere', 'nearby', ';', 'harry', 'listened', 'to', 'it', 'while', 'the', 'others', 'talked', ',', 'discussing', 'matters', 'in', 'which', 'he', 'could', 'take', 'no', 'interest', ',', 'making', 'decisions', ',', 'dean', 'carried', 'the', 'injured', 'griphook', 'into', 'the', 'house', ',', 'fleur', 'hurrying', 'with', 'them', ';', 'now', 'bill', 'was', 'really', 'knowing', 'what', 'he', 'was', 'saying', '.', 'as', 'he', 'did', 'so', ',', 'he', 'gazed', 'down', 'at', 'the', 'tiny', 'body', ',', 'and', 'his', 'scar', 'prickled', 'and', 'burned', ',', 'and', 'in', 'one', 'part', 'of', 'his', 'mind', ',', 'viewed', 'as', 'if', 'from', 'the', 'wrong', 'end', 'of', 'a', 'long', 'telescope', ',', 'he', 'saw', 'voldemort', 'punishing', 'those', 'they', 'had', 'left', 'behind', 'at', 'the', 'malfoy', 'manor', '.', 'his', 'rage', 'was', 'dreadful', 'and', 'yet', 'harry', \"'s\", 'grief', 'for', 'dobby', 'seemed', 'to', 'diminish', 'it', ',', 'so', 'that', 'it', 'became', 'a', 'distant', 'storm', 'that', 'reached', 'harry', 'from', 'across', 'a', 'vast', ',', 'silent', 'ocean', '.']\n"
     ]
    }
   ],
   "source": [
    "print(word_list)"
   ]
  },
  {
   "cell_type": "code",
   "execution_count": 77,
   "metadata": {
    "collapsed": true,
    "deletable": true,
    "editable": true
   },
   "outputs": [],
   "source": [
    "words = [stripped for stripped in word_list if stripped.isalpha()] #Remove whitespace"
   ]
  },
  {
   "cell_type": "code",
   "execution_count": 78,
   "metadata": {
    "collapsed": false,
    "deletable": true,
    "editable": true
   },
   "outputs": [
    {
     "name": "stdout",
     "output_type": "stream",
     "text": [
      "['the', 'sea', 'was', 'rushing', 'against', 'the', 'rock', 'somewhere', 'nearby', 'harry', 'listened', 'to', 'it', 'while', 'the', 'others', 'talked', 'discussing', 'matters', 'in', 'which', 'he', 'could', 'take', 'no', 'interest', 'making', 'decisions', 'dean', 'carried', 'the', 'injured', 'griphook', 'into', 'the', 'house', 'fleur', 'hurrying', 'with', 'them', 'now', 'bill', 'was', 'really', 'knowing', 'what', 'he', 'was', 'saying', 'as', 'he', 'did', 'so', 'he', 'gazed', 'down', 'at', 'the', 'tiny', 'body', 'and', 'his', 'scar', 'prickled', 'and', 'burned', 'and', 'in', 'one', 'part', 'of', 'his', 'mind', 'viewed', 'as', 'if', 'from', 'the', 'wrong', 'end', 'of', 'a', 'long', 'telescope', 'he', 'saw', 'voldemort', 'punishing', 'those', 'they', 'had', 'left', 'behind', 'at', 'the', 'malfoy', 'manor', 'his', 'rage', 'was', 'dreadful', 'and', 'yet', 'harry', 'grief', 'for', 'dobby', 'seemed', 'to', 'diminish', 'it', 'so', 'that', 'it', 'became', 'a', 'distant', 'storm', 'that', 'reached', 'harry', 'from', 'across', 'a', 'vast', 'silent', 'ocean']\n"
     ]
    }
   ],
   "source": [
    "print(words)"
   ]
  },
  {
   "cell_type": "code",
   "execution_count": 46,
   "metadata": {
    "collapsed": true,
    "deletable": true,
    "editable": true
   },
   "outputs": [],
   "source": [
    "stop_words = set(stopwords.words('english'))\n"
   ]
  },
  {
   "cell_type": "code",
   "execution_count": 102,
   "metadata": {
    "collapsed": false,
    "deletable": true,
    "editable": true
   },
   "outputs": [
    {
     "name": "stdout",
     "output_type": "stream",
     "text": [
      "['sea', 'rushing', 'rock', 'somewhere', 'nearby', 'harry', 'listened', 'others', 'talked', 'discussing', 'matters', 'could', 'take', 'interest', 'making', 'decisions', 'dean', 'carried', 'injured', 'griphook', 'house', 'fleur', 'hurrying', 'bill', 'really', 'knowing', 'saying', 'gazed', 'tiny', 'body', 'scar', 'prickled', 'burned', 'one', 'part', 'mind', 'viewed', 'wrong', 'end', 'long', 'telescope', 'saw', 'voldemort', 'punishing', 'left', 'behind', 'malfoy', 'manor', 'rage', 'dreadful', 'yet', 'harry', 'grief', 'dobby', 'seemed', 'diminish', 'became', 'distant', 'storm', 'reached', 'harry', 'across', 'vast', 'silent', 'ocean']\n"
     ]
    }
   ],
   "source": [
    "words_without_stop = [w for w in words if not w in stop_words]\n",
    "print(words_without_stop)"
   ]
  },
  {
   "cell_type": "code",
   "execution_count": 103,
   "metadata": {
    "collapsed": true,
    "deletable": true,
    "editable": true
   },
   "outputs": [],
   "source": [
    "lemmatizer = WordNetLemmatizer()\n"
   ]
  },
  {
   "cell_type": "code",
   "execution_count": 104,
   "metadata": {
    "collapsed": true,
    "deletable": true,
    "editable": true
   },
   "outputs": [],
   "source": [
    "lemmatized_output = ' '.join([lemmatizer.lemmatize(w) for w in words_without_stop])"
   ]
  },
  {
   "cell_type": "code",
   "execution_count": 105,
   "metadata": {
    "collapsed": false,
    "deletable": true,
    "editable": true
   },
   "outputs": [
    {
     "name": "stdout",
     "output_type": "stream",
     "text": [
      "sea rushing rock somewhere nearby harry listened others talked discussing matter could take interest making decision dean carried injured griphook house fleur hurrying bill really knowing saying gazed tiny body scar prickled burned one part mind viewed wrong end long telescope saw voldemort punishing left behind malfoy manor rage dreadful yet harry grief dobby seemed diminish became distant storm reached harry across vast silent ocean\n"
     ]
    }
   ],
   "source": [
    "print(lemmatized_output)"
   ]
  },
  {
   "cell_type": "code",
   "execution_count": 106,
   "metadata": {
    "collapsed": true,
    "deletable": true,
    "editable": true
   },
   "outputs": [],
   "source": [
    "def get_wordnet_pos(lemmatized_output):\n",
    "    \"\"\"Map POS tag to first character lemmatize() accepts\"\"\"\n",
    "    tag = nltk.pos_tag([lemmatized_output])[0][1][0].upper()\n",
    "    tag_dict = {\"J\": wordnet.ADJ,\n",
    "                \"N\": wordnet.NOUN,\n",
    "                \"V\": wordnet.VERB,\n",
    "                \"R\": wordnet.ADV}\n",
    "\n",
    "    return tag_dict.get(tag, wordnet.NOUN)"
   ]
  },
  {
   "cell_type": "code",
   "execution_count": 107,
   "metadata": {
    "collapsed": false,
    "deletable": true,
    "editable": true
   },
   "outputs": [
    {
     "name": "stdout",
     "output_type": "stream",
     "text": [
      "['sea', 'rush', 'rock', 'somewhere', 'nearby', 'harry', 'listen', 'others', 'talk', 'discuss', 'matter', 'could', 'take', 'interest', 'make', 'decision', 'dean', 'carry', 'injured', 'griphook', 'house', 'fleur', 'hurry', 'bill', 'really', 'know', 'say', 'gaze', 'tiny', 'body', 'scar', 'prickle', 'burn', 'one', 'part', 'mind', 'view', 'wrong', 'end', 'long', 'telescope', 'saw', 'voldemort', 'punish', 'left', 'behind', 'malfoy', 'manor', 'rage', 'dreadful', 'yet', 'harry', 'grief', 'dobby', 'seem', 'diminish', 'become', 'distant', 'storm', 'reach', 'harry', 'across', 'vast', 'silent', 'ocean']\n"
     ]
    }
   ],
   "source": [
    "print([lemmatizer.lemmatize(w, get_wordnet_pos(w)) for w in nltk.word_tokenize(lemmatized_output)])"
   ]
  },
  {
   "cell_type": "code",
   "execution_count": null,
   "metadata": {
    "collapsed": true,
    "deletable": true,
    "editable": true
   },
   "outputs": [],
   "source": []
  }
 ],
 "metadata": {
  "kernelspec": {
   "display_name": "Python 3",
   "language": "python",
   "name": "python3"
  },
  "language_info": {
   "codemirror_mode": {
    "name": "ipython",
    "version": 3
   },
   "file_extension": ".py",
   "mimetype": "text/x-python",
   "name": "python",
   "nbconvert_exporter": "python",
   "pygments_lexer": "ipython3",
   "version": "3.5.2"
  }
 },
 "nbformat": 4,
 "nbformat_minor": 5
}
